{
 "cells": [
  {
   "cell_type": "markdown",
   "metadata": {},
   "source": [
    "## Final Project Testing"
   ]
  },
  {
   "cell_type": "code",
   "execution_count": 2,
   "metadata": {
    "collapsed": true
   },
   "outputs": [],
   "source": [
    "import astropy\n",
    "import pandas as pd\n",
    "import seaborn as sns\n",
    "import astropy.coordinates as coord\n",
    "from astropy.coordinates import SkyCoord, AltAz\n",
    "from astropy import units as u\n",
    "from astropy.table import Table\n"
   ]
  },
  {
   "cell_type": "code",
   "execution_count": 11,
   "metadata": {
    "collapsed": false
   },
   "outputs": [],
   "source": [
    "import unittest"
   ]
  },
  {
   "cell_type": "code",
   "execution_count": 3,
   "metadata": {
    "collapsed": true
   },
   "outputs": [],
   "source": [
    "def correction(day, sun_dec, sun_ra, ven_ra, ven_dec, a):\n",
    "    # finding the distance between Earth and the Sun\n",
    "    b = 1 - 0.01672*np.cos(0.9856*(day - 2))\n",
    "    # finding the distance between the Sun and Venus\n",
    "    c1 = SkyCoord(ra=sun_ra*u.degree, dec=sun_dec*u.degree, distance=b*u.au, frame='icrs')\n",
    "    c2 = SkyCoord(ra=ven_ra*u.degree, dec=ven_dec*u.degree, distance=a*u.au, frame='icrs')\n",
    "    c = c1.separation_3d(c2).value\n",
    "    # plugging into the law of cosines to find the angle between the Sun and Venus\n",
    "    distance =  np.arccos((a**2 + c**2 - b**2)/(2*(a)*(c)))\n",
    "    return distance"
   ]
  },
  {
   "cell_type": "code",
   "execution_count": 14,
   "metadata": {
    "collapsed": false
   },
   "outputs": [
    {
     "data": {
      "text/plain": [
       "<unittest.case.FunctionTestCase tec=<function correction at 0x11857af28>>"
      ]
     },
     "execution_count": 14,
     "metadata": {},
     "output_type": "execute_result"
    }
   ],
   "source": [
    "unittest.FunctionTestCase(correction)"
   ]
  },
  {
   "cell_type": "code",
   "execution_count": 15,
   "metadata": {
    "collapsed": false
   },
   "outputs": [
    {
     "data": {
      "text/plain": [
       "<unittest.result.TestResult run=0 errors=0 failures=0>"
      ]
     },
     "execution_count": 15,
     "metadata": {},
     "output_type": "execute_result"
    }
   ],
   "source": [
    "unittest.TestResult(correction)"
   ]
  },
  {
   "cell_type": "markdown",
   "metadata": {},
   "source": [
    "I am not sure if this is exactly what you wanted. Please, let me know if it isn't. "
   ]
  },
  {
   "cell_type": "code",
   "execution_count": null,
   "metadata": {
    "collapsed": true
   },
   "outputs": [],
   "source": []
  }
 ],
 "metadata": {
  "anaconda-cloud": {},
  "kernelspec": {
   "display_name": "Python [Root]",
   "language": "python",
   "name": "Python [Root]"
  },
  "language_info": {
   "codemirror_mode": {
    "name": "ipython",
    "version": 3
   },
   "file_extension": ".py",
   "mimetype": "text/x-python",
   "name": "python",
   "nbconvert_exporter": "python",
   "pygments_lexer": "ipython3",
   "version": "3.5.2"
  }
 },
 "nbformat": 4,
 "nbformat_minor": 0
}
