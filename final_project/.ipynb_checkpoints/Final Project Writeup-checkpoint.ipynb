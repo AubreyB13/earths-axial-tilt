{
 "cells": [
  {
   "cell_type": "markdown",
   "metadata": {
    "deletable": true,
    "editable": true
   },
   "source": [
    "## Final Project Writeup"
   ]
  },
  {
   "cell_type": "markdown",
   "metadata": {
    "deletable": true,
    "editable": true
   },
   "source": [
    "Through the observation of the planets in our solar system astronomers have continued to calculated Earth's axial tilt with higher degrees of accuracy. I used the HORIZONS Web-Interface from JPL and NASA to get a year worth of data on Venus. After graphing Venus' position in our sky, I found that its' position moved sinusodial and  from this I was able to infer the angle of Earth's axial tilt is 23.77. However, the widely accepted tilt is 25.44 degrees. \n",
    "\n",
    "To make up for the error, I used vector geometry methods and Kepler's third law of planetary motion. I calculated the distance between Earth and the Sun using Kepler's laws. I was given the distance between Venus and Earth through the HORIZON database. I just needed the distance between the Sun and Venus which I found through the use of the seperation_3d function through astropy. Then using the law of cosines I found the angle between Venus and the Sun in our sky. Then, I took this and found the corrected axial tilt was 23.47 deg. This result was far closer than my original calculation. "
   ]
  },
  {
   "cell_type": "markdown",
   "metadata": {
    "deletable": true,
    "editable": true
   },
   "source": [
    "** PseudoCode **"
   ]
  },
  {
   "cell_type": "markdown",
   "metadata": {
    "deletable": true,
    "editable": true
   },
   "source": [
    "defined a function for the angle correction:\n",
    "     solve for the distance between Earth and the Sun (b)\n",
    "     b = 1 - 0.01672*np.cos(0.9856*(day - 2))\n",
    "     \n",
    "     solve for distance between Sun and Venus on a specfic date\n",
    "     SkyCoord(Sun)\n",
    "     SkyCoord(Venus)\n",
    "     then calculate the seperation between the two coordinates (c)\n",
    "     c = c1.separation_3d(c2).value\n",
    "     \n",
    "     plug into the law of cosine to find angle correction\n",
    "     arccos(a^2 + c^2 - b^2)/2(ac)\n",
    "     \n",
    "     return distance\n",
    "     \n",
    "     \n",
    "    "
   ]
  }
 ],
 "metadata": {
  "anaconda-cloud": {},
  "kernelspec": {
   "display_name": "Python [conda env:DSCI6007]",
   "language": "python",
   "name": "conda-env-DSCI6007-py"
  },
  "language_info": {
   "codemirror_mode": {
    "name": "ipython",
    "version": 2
   },
   "file_extension": ".py",
   "mimetype": "text/x-python",
   "name": "python",
   "nbconvert_exporter": "python",
   "pygments_lexer": "ipython2",
   "version": "2.7.12"
  }
 },
 "nbformat": 4,
 "nbformat_minor": 0
}
